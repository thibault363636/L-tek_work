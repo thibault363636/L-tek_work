{
 "cells": [
  {
   "cell_type": "code",
   "execution_count": null,
   "id": "1433e7a2",
   "metadata": {},
   "outputs": [
    {
     "name": "stdout",
     "output_type": "stream",
     "text": [
      "Entrez la temperature T1 du premier point (en degres Celsius) : 0\n",
      "et la resistance R1 du premier point (en ohms) : 15333\n",
      "\t----------------------------------\n"
     ]
    }
   ],
   "source": [
    "from math import *\n",
    "from math import log as ln\n",
    "\n",
    "Tun = eval(input('Entrez la temperature T1 du premier point (en degres Celsius) : '))\n",
    "Run = eval(input('et la resistance R1 du premier point (en ohms) : '))\n",
    "print('\\t----------------------------------')\n",
    "Tdeux = eval(input('Entrez la temperature T2 du deuxieme point (en degres Celsius) : '))\n",
    "Rdeux = eval(input('et la resistance R2 du deuxieme point(en ohms) : '))\n",
    "print('\\t----------------------------------')\n",
    "Ttrois = eval(input('Entrez la temperature T3 du troisieme point (en degres Celsius) : '))\n",
    "Rtrois = eval(input('et la resistance R3 du troisieme point (en ohms) : '))\n",
    "\n",
    "# calculs en kelvins\n",
    "Tun = Tun + 273.15\n",
    "Tdeux = Tdeux + 273.15\n",
    "Ttrois = Ttrois + 273.15\n",
    "\n",
    "# changement de variables\n",
    "Yun = 1/Tun\n",
    "Ydeux = 1/Tdeux\n",
    "Ytrois = 1/Ttrois\n",
    "\n",
    "Lun = ln (Run)\n",
    "Ldeux = ln (Rdeux)\n",
    "Ltrois = ln (Rtrois)\n",
    "\n",
    "# calculs intermediaires\n",
    "a = (Ldeux-Ltrois)/(Lun-Ldeux)*(pow (Ldeux,3) - pow (Lun,3)) + (pow (Ldeux,3) - pow (Ltrois,3))\n",
    "b = Ydeux - Ytrois - ((Ldeux-Ltrois)/(Lun-Ldeux))*(Yun-Ydeux)\n",
    "\n",
    "# calculs de A, B et C\n",
    "C = b / a\n",
    "B = (1/(Lun-Ldeux))*(Yun-Ydeux-C*(pow(Lun,3) - pow(Ldeux,3)))\n",
    "A = Yun - B*Lun - C*pow (Lun,3)\n",
    "\n",
    "#Affichages de A, B et C\n",
    "print('\\t ###################################################################')\n",
    "print('Dans l\\'equation 1/T = A + B*ln R + C*(ln R)^3 on sait désormais que :')\n",
    "print('\\t ###################################################################')\n",
    "print('Le coefficient A vaut ', A)\n",
    "print('Le coefficient B vaut ', B)\n",
    "print('Le coefficient C vaut ', C)"
   ]
  },
  {
   "cell_type": "code",
   "execution_count": null,
   "id": "9a0bdc12",
   "metadata": {},
   "outputs": [],
   "source": []
  },
  {
   "cell_type": "code",
   "execution_count": null,
   "id": "972bf6b9",
   "metadata": {},
   "outputs": [],
   "source": [
    "from math import *\n",
    "from math import log as ln\n",
    "\n",
    "Tun = eval(input('Entrez la temperature T1 du premier point (en degres Celsius) : '))\n",
    "Run = eval(input('et la resistance R1 du premier point (en ohms) : '))\n",
    "print('\\t----------------------------------')\n",
    "Tdeux = eval(input('Entrez la temperature T2 du deuxieme point (en degres Celsius) : '))\n",
    "Rdeux = eval(input('et la resistance R2 du deuxieme point(en ohms) : '))\n",
    "print('\\t----------------------------------')\n",
    "Ttrois = eval(input('Entrez la temperature T3 du troisieme point (en degres Celsius) : '))\n",
    "Rtrois = eval(input('et la resistance R3 du troisieme point (en ohms) : '))\n",
    "\n",
    "# calculs en kelvins\n",
    "Tun = Tun + 273.15\n",
    "Tdeux = Tdeux + 273.15\n",
    "Ttrois = Ttrois + 273.15\n",
    "\n",
    "# changement de variables\n",
    "Yun = 1/Tun\n",
    "Ydeux = 1/Tdeux\n",
    "Ytrois = 1/Ttrois\n",
    "\n",
    "Lun = ln (Run)\n",
    "Ldeux = ln (Rdeux)\n",
    "Ltrois = ln (Rtrois)\n",
    "\n",
    "# calculs intermediaires\n",
    "a = (Ldeux-Ltrois)/(Lun-Ldeux)*(pow (Ldeux,3) - pow (Lun,3)) + (pow (Ldeux,3) - pow (Ltrois,3))\n",
    "b = Ydeux - Ytrois - ((Ldeux-Ltrois)/(Lun-Ldeux))*(Yun-Ydeux)\n",
    "\n",
    "# calculs de A, B et C\n",
    "C = b / a\n",
    "B = (1/(Lun-Ldeux))*(Yun-Ydeux-C*(pow(Lun,3) - pow(Ldeux,3)))\n",
    "A = Yun - B*Lun - C*pow (Lun,3)\n",
    "\n",
    "#Affichages de A, B et C\n",
    "print('\\t ###################################################################')\n",
    "print('Dans l\\'equation 1/T = A + B*ln R + C*(ln R)^3 on sait désormais que :')\n",
    "print('\\t ###################################################################')\n",
    "print('Le coefficient A vaut ', A)\n",
    "print('Le coefficient B vaut ', B)\n",
    "print('Le coefficient C vaut ', C)"
   ]
  },
  {
   "cell_type": "code",
   "execution_count": null,
   "id": "e7f9c15b",
   "metadata": {},
   "outputs": [],
   "source": [
    "vdd=5\n",
    "rntcmin=5824.9\n",
    "rntcmax=12094\n",
    "r1=sqrt(rntcmin*rntcmax)\n",
    "\n",
    "\"VinMin\"\n",
    "vinmin = vdd*(r1/(rntcmax+r1))\n",
    "vinmin"
   ]
  },
  {
   "cell_type": "code",
   "execution_count": null,
   "id": "22d8dada",
   "metadata": {},
   "outputs": [],
   "source": [
    "vdd=5\n",
    "rntcmin=5824.9\n",
    "rntcmax=12094\n",
    "r1=8393\n",
    "\n",
    "\"VinMax\"\n",
    "vinmax = vdd*(r1/(rntcmin+r1))\n",
    "vinmax"
   ]
  },
  {
   "cell_type": "code",
   "execution_count": null,
   "id": "31e89765",
   "metadata": {},
   "outputs": [],
   "source": [
    "voutmax=5\n",
    "voutmin=0\n",
    "\"Gideal\"\n",
    "gideal = (voutmax-voutmin)/(vinmax-vinmin)\n",
    "gideal"
   ]
  },
  {
   "cell_type": "code",
   "execution_count": null,
   "id": "59469fa4",
   "metadata": {},
   "outputs": [],
   "source": [
    "r4=2000\n",
    "\n",
    "\"r2pr3\"\n",
    "r2pr3 = r4/(gideal-1)\n",
    "r2pr3"
   ]
  },
  {
   "cell_type": "code",
   "execution_count": null,
   "id": "057ea608",
   "metadata": {
    "scrolled": true
   },
   "outputs": [],
   "source": [
    "\n",
    "\n",
    "\"R3\"\n",
    "r3 = (r4*vdd)/(vinmax*gideal-voutmax)\n",
    "r3"
   ]
  },
  {
   "cell_type": "code",
   "execution_count": null,
   "id": "f7f96852",
   "metadata": {},
   "outputs": [],
   "source": [
    "\"R2\"\n",
    "r2 = (r2pr3*r3)/(r3-r2pr3)\n",
    "r2"
   ]
  },
  {
   "cell_type": "code",
   "execution_count": null,
   "id": "41d608d6",
   "metadata": {},
   "outputs": [],
   "source": [
    "gactual = (r2pr3+r4)/(r2pr3)\n",
    "gactual"
   ]
  },
  {
   "cell_type": "code",
   "execution_count": null,
   "id": "af1d3925",
   "metadata": {},
   "outputs": [],
   "source": [
    "r1, r2, r3, r4"
   ]
  },
  {
   "cell_type": "code",
   "execution_count": null,
   "id": "2f861988",
   "metadata": {},
   "outputs": [],
   "source": [
    "# the rest of it is not part of the above run"
   ]
  },
  {
   "cell_type": "code",
   "execution_count": null,
   "id": "e7389eea",
   "metadata": {},
   "outputs": [],
   "source": [
    "(r2*r3)/(r2+r3)"
   ]
  },
  {
   "cell_type": "code",
   "execution_count": null,
   "id": "53f8678f",
   "metadata": {},
   "outputs": [],
   "source": [
    "\"Gactual\"\n",
    "(r2pr3+r4)/(r2pr3)"
   ]
  },
  {
   "cell_type": "code",
   "execution_count": null,
   "id": "a41a72ae",
   "metadata": {},
   "outputs": [],
   "source": [
    "\"r2pr3\"\n",
    "((r2pr3)*r3)/(r3-(r2pr3))"
   ]
  },
  {
   "cell_type": "code",
   "execution_count": null,
   "id": "6a71f08b",
   "metadata": {},
   "outputs": [],
   "source": [
    "vdd*(r1/(rntcmax+r1))*((r2pr3+r4)/(r2pr3))-((r4/r3)*vdd)"
   ]
  },
  {
   "cell_type": "code",
   "execution_count": null,
   "id": "268a0d19",
   "metadata": {},
   "outputs": [],
   "source": [
    "vdd*(r1/(rntcmin+r1))*((r2pr3+r4)/(r2pr3))-((r4/r3)*vdd)"
   ]
  },
  {
   "cell_type": "code",
   "execution_count": null,
   "id": "b9d41a36",
   "metadata": {},
   "outputs": [],
   "source": [
    "d = vdd\n",
    "a = r1\n",
    "b = r2pr3\n",
    "c = r4\n",
    "e = r3\n",
    "v = d * (a/(r+a)) * ((b + c)/b) - ((c/e)*d)\n",
    "rntcopti = (e*d*a*b + e*d*a*c - d*a*b*c - e*v*a*b) / (b* (e*v + d*c))\n",
    "rntcopti"
   ]
  },
  {
   "cell_type": "code",
   "execution_count": null,
   "id": "4406a78b",
   "metadata": {},
   "outputs": [],
   "source": [
    "vdd*(r1/(rntcopti+r1))*((r2pr3+r4)/(r2pr3))-((r4/r3)*vdd)"
   ]
  },
  {
   "cell_type": "code",
   "execution_count": null,
   "id": "29fac7a6",
   "metadata": {},
   "outputs": [],
   "source": [
    "r"
   ]
  },
  {
   "cell_type": "code",
   "execution_count": null,
   "id": "8e48f427",
   "metadata": {},
   "outputs": [],
   "source": [
    "v"
   ]
  },
  {
   "cell_type": "code",
   "execution_count": null,
   "id": "147a6ce9",
   "metadata": {},
   "outputs": [],
   "source": [
    "rntcopti"
   ]
  },
  {
   "cell_type": "code",
   "execution_count": null,
   "id": "c702f681",
   "metadata": {},
   "outputs": [],
   "source": [
    "alpha = 0.00391\n",
    "r0 = 27348\n",
    "# r0 is the resistqnce for 0°C\n",
    "r = rntcopti\n",
    "(r-r0)/(r0*alpha)"
   ]
  },
  {
   "cell_type": "code",
   "execution_count": null,
   "id": "fd20dd03",
   "metadata": {},
   "outputs": [],
   "source": [
    "A + B*(ln,r) + C*(ln ,r)^3"
   ]
  },
  {
   "cell_type": "code",
   "execution_count": null,
   "id": "fbbf0d84",
   "metadata": {},
   "outputs": [],
   "source": [
    "A = 0.0008802379350954048\n",
    "B = 0.00025261779329179923\n",
    "C = 1.8747408754669722e-07\n",
    "\n",
    "1/(A + B* (log(r)) + C* (log(r))**3)-273"
   ]
  },
  {
   "cell_type": "code",
   "execution_count": null,
   "id": "750b4f4c",
   "metadata": {},
   "outputs": [],
   "source": [
    "1/0.0034106986681038194"
   ]
  },
  {
   "cell_type": "code",
   "execution_count": null,
   "id": "d06d690a",
   "metadata": {},
   "outputs": [],
   "source": [
    "r2pr3"
   ]
  },
  {
   "cell_type": "code",
   "execution_count": null,
   "id": "35c0d62b",
   "metadata": {},
   "outputs": [],
   "source": [
    "Temperature: -459.67 F; -273.15 C\n",
    "0\n",
    "0.00\n",
    "1.03"
   ]
  }
 ],
 "metadata": {
  "kernelspec": {
   "display_name": "Python 3 (ipykernel)",
   "language": "python",
   "name": "python3"
  },
  "language_info": {
   "codemirror_mode": {
    "name": "ipython",
    "version": 3
   },
   "file_extension": ".py",
   "mimetype": "text/x-python",
   "name": "python",
   "nbconvert_exporter": "python",
   "pygments_lexer": "ipython3",
   "version": "3.10.9"
  }
 },
 "nbformat": 4,
 "nbformat_minor": 5
}
