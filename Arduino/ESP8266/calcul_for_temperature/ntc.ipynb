{
 "cells": [
  {
   "cell_type": "code",
   "execution_count": 2,
   "id": "1433e7a2",
   "metadata": {},
   "outputs": [
    {
     "name": "stdout",
     "output_type": "stream",
     "text": [
      "Entrez la temperature T1 du premier point (en degres Celsius) : 0.0\n",
      "et la resistance R1 du premier point (en ohms) : 15333\n",
      "\t----------------------------------\n",
      "Entrez la temperature T2 du deuxieme point (en degres Celsius) : 10.0\n",
      "et la resistance R2 du deuxieme point(en ohms) : 9351.5\n",
      "\t----------------------------------\n",
      "Entrez la temperature T3 du troisieme point (en degres Celsius) : 15.0\n",
      "et la resistance R3 du troisieme point (en ohms) : 7384.3\n",
      "\t ###################################################################\n",
      "Dans l'equation 1/T = A + B*ln R + C*(ln R)^3 on sait désormais que :\n",
      "\t ###################################################################\n",
      "Le coefficient A vaut  0.0013053204204246775\n",
      "Le coefficient B vaut  0.000235192467907267\n",
      "Le coefficient C vaut  9.935295327737053e-08\n"
     ]
    }
   ],
   "source": [
    "from math import *\n",
    "from math import log as ln\n",
    "\n",
    "Tun = eval(input('Entrez la temperature T1 du premier point (en degres Celsius) : '))\n",
    "Run = eval(input('et la resistance R1 du premier point (en ohms) : '))\n",
    "print('\\t----------------------------------')\n",
    "Tdeux = eval(input('Entrez la temperature T2 du deuxieme point (en degres Celsius) : '))\n",
    "Rdeux = eval(input('et la resistance R2 du deuxieme point(en ohms) : '))\n",
    "print('\\t----------------------------------')\n",
    "Ttrois = eval(input('Entrez la temperature T3 du troisieme point (en degres Celsius) : '))\n",
    "Rtrois = eval(input('et la resistance R3 du troisieme point (en ohms) : '))\n",
    "\n",
    "# calculs en kelvins\n",
    "Tun = Tun + 273.15\n",
    "Tdeux = Tdeux + 273.15\n",
    "Ttrois = Ttrois + 273.15\n",
    "\n",
    "# changement de variables\n",
    "Yun = 1/Tun\n",
    "Ydeux = 1/Tdeux\n",
    "Ytrois = 1/Ttrois\n",
    "\n",
    "Lun = ln (Run)\n",
    "Ldeux = ln (Rdeux)\n",
    "Ltrois = ln (Rtrois)\n",
    "\n",
    "# calculs intermediaires\n",
    "a = (Ldeux-Ltrois)/(Lun-Ldeux)*(pow (Ldeux,3) - pow (Lun,3)) + (pow (Ldeux,3) - pow (Ltrois,3))\n",
    "b = Ydeux - Ytrois - ((Ldeux-Ltrois)/(Lun-Ldeux))*(Yun-Ydeux)\n",
    "\n",
    "# calculs de A, B et C\n",
    "C = b / a\n",
    "B = (1/(Lun-Ldeux))*(Yun-Ydeux-C*(pow(Lun,3) - pow(Ldeux,3)))\n",
    "A = Yun - B*Lun - C*pow (Lun,3)\n",
    "\n",
    "#Affichages de A, B et C\n",
    "print('\\t ###################################################################')\n",
    "print('Dans l\\'equation 1/T = A + B*ln R + C*(ln R)^3 on sait désormais que :')\n",
    "print('\\t ###################################################################')\n",
    "print('Le coefficient A vaut ', A)\n",
    "print('Le coefficient B vaut ', B)\n",
    "print('Le coefficient C vaut ', C)"
   ]
  },
  {
   "cell_type": "code",
   "execution_count": null,
   "id": "9a0bdc12",
   "metadata": {},
   "outputs": [],
   "source": []
  },
  {
   "cell_type": "code",
   "execution_count": 4,
   "id": "972bf6b9",
   "metadata": {},
   "outputs": [
    {
     "name": "stdout",
     "output_type": "stream",
     "text": [
      "Entrez la temperature T1 du premier point (en degres Celsius) : -40.0\n",
      "et la resistance R1 du premier point (en ohms) : 190953\n",
      "\t----------------------------------\n",
      "Entrez la temperature T2 du deuxieme point (en degres Celsius) : 0.0\n",
      "et la resistance R2 du deuxieme point(en ohms) : 27348\n",
      "\t----------------------------------\n",
      "Entrez la temperature T3 du troisieme point (en degres Celsius) : 105.0\n",
      "et la resistance R3 du troisieme point (en ohms) : 858.33\n",
      "\t ###################################################################\n",
      "Dans l'equation 1/T = A + B*ln R + C*(ln R)^3 on sait désormais que :\n",
      "\t ###################################################################\n",
      "Le coefficient A vaut  0.0008802379350954048\n",
      "Le coefficient B vaut  0.00025261779329179923\n",
      "Le coefficient C vaut  1.8747408754669722e-07\n"
     ]
    }
   ],
   "source": [
    "from math import *\n",
    "from math import log as ln\n",
    "\n",
    "Tun = eval(input('Entrez la temperature T1 du premier point (en degres Celsius) : '))\n",
    "Run = eval(input('et la resistance R1 du premier point (en ohms) : '))\n",
    "print('\\t----------------------------------')\n",
    "Tdeux = eval(input('Entrez la temperature T2 du deuxieme point (en degres Celsius) : '))\n",
    "Rdeux = eval(input('et la resistance R2 du deuxieme point(en ohms) : '))\n",
    "print('\\t----------------------------------')\n",
    "Ttrois = eval(input('Entrez la temperature T3 du troisieme point (en degres Celsius) : '))\n",
    "Rtrois = eval(input('et la resistance R3 du troisieme point (en ohms) : '))\n",
    "\n",
    "# calculs en kelvins\n",
    "Tun = Tun + 273.15\n",
    "Tdeux = Tdeux + 273.15\n",
    "Ttrois = Ttrois + 273.15\n",
    "\n",
    "# changement de variables\n",
    "Yun = 1/Tun\n",
    "Ydeux = 1/Tdeux\n",
    "Ytrois = 1/Ttrois\n",
    "\n",
    "Lun = ln (Run)\n",
    "Ldeux = ln (Rdeux)\n",
    "Ltrois = ln (Rtrois)\n",
    "\n",
    "# calculs intermediaires\n",
    "a = (Ldeux-Ltrois)/(Lun-Ldeux)*(pow (Ldeux,3) - pow (Lun,3)) + (pow (Ldeux,3) - pow (Ltrois,3))\n",
    "b = Ydeux - Ytrois - ((Ldeux-Ltrois)/(Lun-Ldeux))*(Yun-Ydeux)\n",
    "\n",
    "# calculs de A, B et C\n",
    "C = b / a\n",
    "B = (1/(Lun-Ldeux))*(Yun-Ydeux-C*(pow(Lun,3) - pow(Ldeux,3)))\n",
    "A = Yun - B*Lun - C*pow (Lun,3)\n",
    "\n",
    "#Affichages de A, B et C\n",
    "print('\\t ###################################################################')\n",
    "print('Dans l\\'equation 1/T = A + B*ln R + C*(ln R)^3 on sait désormais que :')\n",
    "print('\\t ###################################################################')\n",
    "print('Le coefficient A vaut ', A)\n",
    "print('Le coefficient B vaut ', B)\n",
    "print('Le coefficient C vaut ', C)"
   ]
  },
  {
   "cell_type": "code",
   "execution_count": 63,
   "id": "e7f9c15b",
   "metadata": {},
   "outputs": [
    {
     "data": {
      "text/plain": [
       "2.048405538954548"
      ]
     },
     "execution_count": 63,
     "metadata": {},
     "output_type": "execute_result"
    }
   ],
   "source": [
    "vdd=5\n",
    "rntcmin=5824.9\n",
    "rntcmax=12094\n",
    "r1=sqrt(rntcmin*rntcmax)\n",
    "\n",
    "\"VinMin\"\n",
    "vinmin = vdd*(r1/(rntcmax+r1))\n",
    "vinmin"
   ]
  },
  {
   "cell_type": "code",
   "execution_count": 64,
   "id": "22d8dada",
   "metadata": {},
   "outputs": [
    {
     "data": {
      "text/plain": [
       "2.951561060353498"
      ]
     },
     "execution_count": 64,
     "metadata": {},
     "output_type": "execute_result"
    }
   ],
   "source": [
    "vdd=5\n",
    "rntcmin=5824.9\n",
    "rntcmax=12094\n",
    "r1=8393\n",
    "\n",
    "\"VinMax\"\n",
    "vinmax = vdd*(r1/(rntcmin+r1))\n",
    "vinmax"
   ]
  },
  {
   "cell_type": "code",
   "execution_count": 68,
   "id": "31e89765",
   "metadata": {},
   "outputs": [
    {
     "data": {
      "text/plain": [
       "5.536145084132586"
      ]
     },
     "execution_count": 68,
     "metadata": {},
     "output_type": "execute_result"
    }
   ],
   "source": [
    "voutmax=5\n",
    "voutmin=0\n",
    "\"Gideal\"\n",
    "gideal = (voutmax-voutmin)/(vinmax-vinmin)\n",
    "gideal"
   ]
  },
  {
   "cell_type": "code",
   "execution_count": 69,
   "id": "59469fa4",
   "metadata": {},
   "outputs": [
    {
     "data": {
      "text/plain": [
       "440.9030052843748"
      ]
     },
     "execution_count": 69,
     "metadata": {},
     "output_type": "execute_result"
    }
   ],
   "source": [
    "r4=2000\n",
    "\n",
    "\"r2pr3\"\n",
    "r2pr3 = r4/(gideal-1)\n",
    "r2pr3"
   ]
  },
  {
   "cell_type": "code",
   "execution_count": 76,
   "id": "057ea608",
   "metadata": {
    "scrolled": true
   },
   "outputs": [
    {
     "data": {
      "text/plain": [
       "881.8601903234655"
      ]
     },
     "execution_count": 76,
     "metadata": {},
     "output_type": "execute_result"
    }
   ],
   "source": [
    "\n",
    "\n",
    "\"R3\"\n",
    "r3 = (r4*vdd)/(vinmax*gideal-voutmax)\n",
    "r3"
   ]
  },
  {
   "cell_type": "code",
   "execution_count": 79,
   "id": "f7f96852",
   "metadata": {},
   "outputs": [
    {
     "data": {
      "text/plain": [
       "881.7518374710196"
      ]
     },
     "execution_count": 79,
     "metadata": {},
     "output_type": "execute_result"
    }
   ],
   "source": [
    "\"R2\"\n",
    "r2 = (r2pr3*r3)/(r3-r2pr3)\n",
    "r2"
   ]
  },
  {
   "cell_type": "code",
   "execution_count": 80,
   "id": "41d608d6",
   "metadata": {},
   "outputs": [
    {
     "data": {
      "text/plain": [
       "5.536145084132585"
      ]
     },
     "execution_count": 80,
     "metadata": {},
     "output_type": "execute_result"
    }
   ],
   "source": [
    "gactual = (r2pr3+r4)/(r2pr3)\n",
    "gactual"
   ]
  },
  {
   "cell_type": "code",
   "execution_count": 81,
   "id": "af1d3925",
   "metadata": {},
   "outputs": [
    {
     "data": {
      "text/plain": [
       "(8393, 881.7518374710196, 881.8601903234655, 2000)"
      ]
     },
     "execution_count": 81,
     "metadata": {},
     "output_type": "execute_result"
    }
   ],
   "source": [
    "r1, r2, r3, r4"
   ]
  },
  {
   "cell_type": "code",
   "execution_count": null,
   "id": "2f861988",
   "metadata": {},
   "outputs": [],
   "source": [
    "# the rest of it is not part of the above run"
   ]
  },
  {
   "cell_type": "code",
   "execution_count": 56,
   "id": "e7389eea",
   "metadata": {},
   "outputs": [
    {
     "data": {
      "text/plain": [
       "436.955821250304"
      ]
     },
     "execution_count": 56,
     "metadata": {},
     "output_type": "execute_result"
    }
   ],
   "source": [
    "(r2*r3)/(r2+r3)"
   ]
  },
  {
   "cell_type": "code",
   "execution_count": 89,
   "id": "53f8678f",
   "metadata": {},
   "outputs": [
    {
     "data": {
      "text/plain": [
       "5.536145084132585"
      ]
     },
     "execution_count": 89,
     "metadata": {},
     "output_type": "execute_result"
    }
   ],
   "source": [
    "\"Gactual\"\n",
    "(r2pr3+r4)/(r2pr3)"
   ]
  },
  {
   "cell_type": "code",
   "execution_count": 33,
   "id": "a41a72ae",
   "metadata": {},
   "outputs": [
    {
     "data": {
      "text/plain": [
       "559.108727943739"
      ]
     },
     "execution_count": 33,
     "metadata": {},
     "output_type": "execute_result"
    }
   ],
   "source": [
    "\"r2pr3\"\n",
    "((r2pr3)*r3)/(r3-(r2pr3))"
   ]
  },
  {
   "cell_type": "code",
   "execution_count": 88,
   "id": "6a71f08b",
   "metadata": {},
   "outputs": [
    {
     "data": {
      "text/plain": [
       "0.00041936387644092576"
      ]
     },
     "execution_count": 88,
     "metadata": {},
     "output_type": "execute_result"
    }
   ],
   "source": [
    "vdd*(r1/(rntcmax+r1))*((r2pr3+r4)/(r2pr3))-((r4/r3)*vdd)"
   ]
  },
  {
   "cell_type": "code",
   "execution_count": 90,
   "id": "268a0d19",
   "metadata": {},
   "outputs": [
    {
     "data": {
      "text/plain": [
       "5.00060427403039"
      ]
     },
     "execution_count": 90,
     "metadata": {},
     "output_type": "execute_result"
    }
   ],
   "source": [
    "vdd*(r1/(rntcmin+r1))*((r2pr3+r4)/(r2pr3))-((r4/r3)*vdd)"
   ]
  },
  {
   "cell_type": "code",
   "execution_count": 100,
   "id": "b9d41a36",
   "metadata": {},
   "outputs": [
    {
     "data": {
      "text/plain": [
       "8310.800000000014"
      ]
     },
     "execution_count": 100,
     "metadata": {},
     "output_type": "execute_result"
    }
   ],
   "source": [
    "d = vdd\n",
    "a = r1\n",
    "b = r2pr3\n",
    "c = r4\n",
    "e = r3\n",
    "v = d * (a/(r+a)) * ((b + c)/b) - ((c/e)*d)\n",
    "rntcopti = (e*d*a*b + e*d*a*c - d*a*b*c - e*v*a*b) / (b* (e*v + d*c))\n",
    "rntcopti"
   ]
  },
  {
   "cell_type": "code",
   "execution_count": 101,
   "id": "4406a78b",
   "metadata": {},
   "outputs": [
    {
     "data": {
      "text/plain": [
       "2.5688056517773354"
      ]
     },
     "execution_count": 101,
     "metadata": {},
     "output_type": "execute_result"
    }
   ],
   "source": [
    "vdd*(r1/(rntcopti+r1))*((r2pr3+r4)/(r2pr3))-((r4/r3)*vdd)"
   ]
  },
  {
   "cell_type": "code",
   "execution_count": 102,
   "id": "29fac7a6",
   "metadata": {},
   "outputs": [
    {
     "data": {
      "text/plain": [
       "8310.800000000008"
      ]
     },
     "execution_count": 102,
     "metadata": {},
     "output_type": "execute_result"
    }
   ],
   "source": [
    "r"
   ]
  },
  {
   "cell_type": "code",
   "execution_count": 103,
   "id": "8e48f427",
   "metadata": {},
   "outputs": [
    {
     "data": {
      "text/plain": [
       "2.568805651777339"
      ]
     },
     "execution_count": 103,
     "metadata": {},
     "output_type": "execute_result"
    }
   ],
   "source": [
    "v"
   ]
  },
  {
   "cell_type": "code",
   "execution_count": 104,
   "id": "147a6ce9",
   "metadata": {},
   "outputs": [
    {
     "data": {
      "text/plain": [
       "8310.800000000014"
      ]
     },
     "execution_count": 104,
     "metadata": {},
     "output_type": "execute_result"
    }
   ],
   "source": [
    "rntcopti"
   ]
  },
  {
   "cell_type": "code",
   "execution_count": 108,
   "id": "c702f681",
   "metadata": {},
   "outputs": [
    {
     "data": {
      "text/plain": [
       "-178.03309583367454"
      ]
     },
     "execution_count": 108,
     "metadata": {},
     "output_type": "execute_result"
    }
   ],
   "source": [
    "alpha = 0.00391\n",
    "r0 = 27348\n",
    "# r0 is the resistqnce for 0°C\n",
    "r = rntcopti\n",
    "(r-r0)/(r0*alpha)"
   ]
  },
  {
   "cell_type": "code",
   "execution_count": 117,
   "id": "fd20dd03",
   "metadata": {},
   "outputs": [
    {
     "ename": "TypeError",
     "evalue": "can't multiply sequence by non-int of type 'float'",
     "output_type": "error",
     "traceback": [
      "\u001b[1;31m---------------------------------------------------------------------------\u001b[0m",
      "\u001b[1;31mTypeError\u001b[0m                                 Traceback (most recent call last)",
      "Cell \u001b[1;32mIn[117], line 1\u001b[0m\n\u001b[1;32m----> 1\u001b[0m A \u001b[38;5;241m+\u001b[39m \u001b[43mB\u001b[49m\u001b[38;5;241;43m*\u001b[39;49m\u001b[43m(\u001b[49m\u001b[43mln\u001b[49m\u001b[43m,\u001b[49m\u001b[43mr\u001b[49m\u001b[43m)\u001b[49m \u001b[38;5;241m+\u001b[39m C\u001b[38;5;241m*\u001b[39m(ln ,r)\u001b[38;5;241m^\u001b[39m\u001b[38;5;241m3\u001b[39m\n",
      "\u001b[1;31mTypeError\u001b[0m: can't multiply sequence by non-int of type 'float'"
     ]
    }
   ],
   "source": [
    "A + B*(ln,r) + C*(ln ,r)^3"
   ]
  },
  {
   "cell_type": "code",
   "execution_count": 128,
   "id": "fbbf0d84",
   "metadata": {},
   "outputs": [
    {
     "data": {
      "text/plain": [
       "30.212500846830437"
      ]
     },
     "execution_count": 128,
     "metadata": {},
     "output_type": "execute_result"
    }
   ],
   "source": [
    "A = 0.0008802379350954048\n",
    "B = 0.00025261779329179923\n",
    "C = 1.8747408754669722e-07\n",
    "\n",
    "1/(A + B* (log(r)) + C* (log(r))**3)-273"
   ]
  },
  {
   "cell_type": "code",
   "execution_count": 125,
   "id": "750b4f4c",
   "metadata": {},
   "outputs": [
    {
     "data": {
      "text/plain": [
       "293.19505981334635"
      ]
     },
     "execution_count": 125,
     "metadata": {},
     "output_type": "execute_result"
    }
   ],
   "source": [
    "1/0.0034106986681038194"
   ]
  },
  {
   "cell_type": "code",
   "execution_count": 129,
   "id": "d06d690a",
   "metadata": {},
   "outputs": [
    {
     "data": {
      "text/plain": [
       "440.9030052843748"
      ]
     },
     "execution_count": 129,
     "metadata": {},
     "output_type": "execute_result"
    }
   ],
   "source": [
    "r2pr3"
   ]
  },
  {
   "cell_type": "code",
   "execution_count": null,
   "id": "35c0d62b",
   "metadata": {},
   "outputs": [],
   "source": [
    "Temperature: -459.67 F; -273.15 C\n",
    "0\n",
    "0.00\n",
    "1.03"
   ]
  }
 ],
 "metadata": {
  "kernelspec": {
   "display_name": "Python 3 (ipykernel)",
   "language": "python",
   "name": "python3"
  },
  "language_info": {
   "codemirror_mode": {
    "name": "ipython",
    "version": 3
   },
   "file_extension": ".py",
   "mimetype": "text/x-python",
   "name": "python",
   "nbconvert_exporter": "python",
   "pygments_lexer": "ipython3",
   "version": "3.10.9"
  }
 },
 "nbformat": 4,
 "nbformat_minor": 5
}
